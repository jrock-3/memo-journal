{
 "cells": [
  {
   "cell_type": "markdown",
   "id": "810c3fe5-b149-467c-9146-a95f310b26b6",
   "metadata": {},
   "source": [
    "# Memo Journal\n",
    "## Breakdown of Functionality\n",
    "1. "
   ]
  },
  {
   "cell_type": "code",
   "execution_count": 2,
   "id": "ba707d8a-fa7d-427d-9c11-684c9c319566",
   "metadata": {},
   "outputs": [
    {
     "data": {
      "text/plain": [
       "True"
      ]
     },
     "execution_count": 2,
     "metadata": {},
     "output_type": "execute_result"
    }
   ],
   "source": [
    "import re, os, sys\n",
    "\n",
    "from google.cloud import storage\n",
    "from google.cloud.speech_v2 import SpeechClient\n",
    "from google.cloud.speech_v2.types import cloud_speech\n",
    "\n",
    "from dotenv import load_dotenv\n",
    "\n",
    "PROJECT_ID = os.getenv(\"GOOGLE_CLOUD_PROJECT\")\n",
    "\n",
    "load_dotenv()"
   ]
  },
  {
   "cell_type": "code",
   "execution_count": 17,
   "id": "81215b70-0367-4c46-b280-1220e55da169",
   "metadata": {},
   "outputs": [],
   "source": [
    "def transcribe_batch_gcs_input_gcs_output_v2(\n",
    "    audio_uri: str,\n",
    "    gcs_output_path: str,\n",
    ") -> cloud_speech.BatchRecognizeResults:\n",
    "    \"\"\"Transcribes audio from a Google Cloud Storage URI using the Google Cloud Speech-to-Text API.\n",
    "    The transcription results are stored in another Google Cloud Storage bucket.\n",
    "    Args:\n",
    "        audio_uri (str): The Google Cloud Storage URI of the input audio file.\n",
    "            E.g., gs://[BUCKET]/[FILE]\n",
    "        gcs_output_path (str): The Google Cloud Storage bucket URI where the output transcript will be stored.\n",
    "            E.g., gs://[BUCKET]\n",
    "    Returns:\n",
    "        cloud_speech.BatchRecognizeResults: The response containing the URI of the transcription results.\n",
    "    \"\"\"\n",
    "    # Instantiates a client\n",
    "    client = SpeechClient()\n",
    "\n",
    "    config = cloud_speech.RecognitionConfig(\n",
    "        auto_decoding_config=cloud_speech.AutoDetectDecodingConfig(),\n",
    "        language_codes=[\"en-US\"],\n",
    "        model=\"long\",\n",
    "    )\n",
    "\n",
    "    file_metadata = cloud_speech.BatchRecognizeFileMetadata(uri=audio_uri)\n",
    "\n",
    "    request = cloud_speech.BatchRecognizeRequest(\n",
    "        recognizer=f\"projects/bright-benefit-437723-t7/locations/global/recognizers/memo-journal-test\",\n",
    "        config=config,\n",
    "        files=[file_metadata],\n",
    "        recognition_output_config=cloud_speech.RecognitionOutputConfig(\n",
    "            gcs_output_config=cloud_speech.GcsOutputConfig(\n",
    "                uri=gcs_output_path,\n",
    "            ),\n",
    "        ),\n",
    "    )\n",
    "\n",
    "    # Transcribes the audio into text\n",
    "    operation = client.batch_recognize(request=request)\n",
    "\n",
    "    print(\"Waiting for operation to complete...\")\n",
    "    response = operation.result(timeout=120)\n",
    "\n",
    "    file_results = response.results[audio_uri]\n",
    "\n",
    "    print(f\"Operation finished. Fetching results from {file_results.uri}...\")\n",
    "    output_bucket, output_object = re.match(\n",
    "        r\"gs://([^/]+)/(.*)\", file_results.uri\n",
    "    ).group(1, 2)\n",
    "\n",
    "    # Instantiates a Cloud Storage client\n",
    "    storage_client = storage.Client()\n",
    "\n",
    "    # Fetch results from Cloud Storage\n",
    "    bucket = storage_client.bucket(output_bucket)\n",
    "    blob = bucket.blob(output_object)\n",
    "    results_bytes = blob.download_as_bytes()\n",
    "    batch_recognize_results = cloud_speech.BatchRecognizeResults.from_json(\n",
    "        results_bytes, ignore_unknown_fields=True\n",
    "    )\n",
    "\n",
    "    for result in batch_recognize_results.results:\n",
    "        print(f\"Transcript: {result.alternatives[0].transcript}\")\n",
    "\n",
    "    return batch_recognize_results"
   ]
  },
  {
   "cell_type": "code",
   "execution_count": 18,
   "id": "af455fb9-fe2d-4732-ba53-939a6f3d9d16",
   "metadata": {},
   "outputs": [
    {
     "name": "stdout",
     "output_type": "stream",
     "text": [
      "gs://voice-memo-journal-wav/integration-test-input-file.wav gs://voice-memo-journal-wav\n"
     ]
    }
   ],
   "source": [
    "gcs_bucket_name = os.getenv(\"GOOGLE_CLOUD_BUCKET_NAME\")\n",
    "audio_uri = f\"gs://{gcs_bucket_name}/integration-test-input-file.wav\"\n",
    "gcs_output_path = f\"gs://{gcs_bucket_name}\"\n",
    "print(audio_uri, gcs_output_path)"
   ]
  },
  {
   "cell_type": "code",
   "execution_count": 19,
   "id": "f8b1a436-fa6d-4619-aeb6-eb9962c21d17",
   "metadata": {},
   "outputs": [
    {
     "ename": "NotFound",
     "evalue": "404 Unable to find Recognizer memo-journal-test from project 319790905493.",
     "output_type": "error",
     "traceback": [
      "\u001b[0;31m---------------------------------------------------------------------------\u001b[0m",
      "\u001b[0;31m_InactiveRpcError\u001b[0m                         Traceback (most recent call last)",
      "File \u001b[0;32m~/cs/memo-journal/memo-journal/lib/python3.12/site-packages/google/api_core/grpc_helpers.py:76\u001b[0m, in \u001b[0;36m_wrap_unary_errors.<locals>.error_remapped_callable\u001b[0;34m(*args, **kwargs)\u001b[0m\n\u001b[1;32m     75\u001b[0m \u001b[38;5;28;01mtry\u001b[39;00m:\n\u001b[0;32m---> 76\u001b[0m     \u001b[38;5;28;01mreturn\u001b[39;00m \u001b[43mcallable_\u001b[49m\u001b[43m(\u001b[49m\u001b[38;5;241;43m*\u001b[39;49m\u001b[43margs\u001b[49m\u001b[43m,\u001b[49m\u001b[43m \u001b[49m\u001b[38;5;241;43m*\u001b[39;49m\u001b[38;5;241;43m*\u001b[39;49m\u001b[43mkwargs\u001b[49m\u001b[43m)\u001b[49m\n\u001b[1;32m     77\u001b[0m \u001b[38;5;28;01mexcept\u001b[39;00m grpc\u001b[38;5;241m.\u001b[39mRpcError \u001b[38;5;28;01mas\u001b[39;00m exc:\n",
      "File \u001b[0;32m~/cs/memo-journal/memo-journal/lib/python3.12/site-packages/grpc/_channel.py:1181\u001b[0m, in \u001b[0;36m_UnaryUnaryMultiCallable.__call__\u001b[0;34m(self, request, timeout, metadata, credentials, wait_for_ready, compression)\u001b[0m\n\u001b[1;32m   1175\u001b[0m (\n\u001b[1;32m   1176\u001b[0m     state,\n\u001b[1;32m   1177\u001b[0m     call,\n\u001b[1;32m   1178\u001b[0m ) \u001b[38;5;241m=\u001b[39m \u001b[38;5;28mself\u001b[39m\u001b[38;5;241m.\u001b[39m_blocking(\n\u001b[1;32m   1179\u001b[0m     request, timeout, metadata, credentials, wait_for_ready, compression\n\u001b[1;32m   1180\u001b[0m )\n\u001b[0;32m-> 1181\u001b[0m \u001b[38;5;28;01mreturn\u001b[39;00m \u001b[43m_end_unary_response_blocking\u001b[49m\u001b[43m(\u001b[49m\u001b[43mstate\u001b[49m\u001b[43m,\u001b[49m\u001b[43m \u001b[49m\u001b[43mcall\u001b[49m\u001b[43m,\u001b[49m\u001b[43m \u001b[49m\u001b[38;5;28;43;01mFalse\u001b[39;49;00m\u001b[43m,\u001b[49m\u001b[43m \u001b[49m\u001b[38;5;28;43;01mNone\u001b[39;49;00m\u001b[43m)\u001b[49m\n",
      "File \u001b[0;32m~/cs/memo-journal/memo-journal/lib/python3.12/site-packages/grpc/_channel.py:1006\u001b[0m, in \u001b[0;36m_end_unary_response_blocking\u001b[0;34m(state, call, with_call, deadline)\u001b[0m\n\u001b[1;32m   1005\u001b[0m \u001b[38;5;28;01melse\u001b[39;00m:\n\u001b[0;32m-> 1006\u001b[0m     \u001b[38;5;28;01mraise\u001b[39;00m _InactiveRpcError(state)\n",
      "\u001b[0;31m_InactiveRpcError\u001b[0m: <_InactiveRpcError of RPC that terminated with:\n\tstatus = StatusCode.NOT_FOUND\n\tdetails = \"Unable to find Recognizer memo-journal-test from project 319790905493.\"\n\tdebug_error_string = \"UNKNOWN:Error received from peer ipv6:%5B2607:f8b0:4005:814::200a%5D:443 {created_time:\"2024-10-12T20:30:25.180466-07:00\", grpc_status:5, grpc_message:\"Unable to find Recognizer memo-journal-test from project 319790905493.\"}\"\n>",
      "\nThe above exception was the direct cause of the following exception:\n",
      "\u001b[0;31mNotFound\u001b[0m                                  Traceback (most recent call last)",
      "Cell \u001b[0;32mIn[19], line 1\u001b[0m\n\u001b[0;32m----> 1\u001b[0m res \u001b[38;5;241m=\u001b[39m \u001b[43mtranscribe_batch_gcs_input_gcs_output_v2\u001b[49m\u001b[43m(\u001b[49m\u001b[43maudio_uri\u001b[49m\u001b[43m,\u001b[49m\u001b[43m \u001b[49m\u001b[43mgcs_output_path\u001b[49m\u001b[43m)\u001b[49m\n",
      "Cell \u001b[0;32mIn[17], line 38\u001b[0m, in \u001b[0;36mtranscribe_batch_gcs_input_gcs_output_v2\u001b[0;34m(audio_uri, gcs_output_path)\u001b[0m\n\u001b[1;32m     26\u001b[0m request \u001b[38;5;241m=\u001b[39m cloud_speech\u001b[38;5;241m.\u001b[39mBatchRecognizeRequest(\n\u001b[1;32m     27\u001b[0m     recognizer\u001b[38;5;241m=\u001b[39m\u001b[38;5;124mf\u001b[39m\u001b[38;5;124m\"\u001b[39m\u001b[38;5;124mprojects/bright-benefit-437723-t7/locations/global/recognizers/memo-journal-test\u001b[39m\u001b[38;5;124m\"\u001b[39m,\n\u001b[1;32m     28\u001b[0m     config\u001b[38;5;241m=\u001b[39mconfig,\n\u001b[0;32m   (...)\u001b[0m\n\u001b[1;32m     34\u001b[0m     ),\n\u001b[1;32m     35\u001b[0m )\n\u001b[1;32m     37\u001b[0m \u001b[38;5;66;03m# Transcribes the audio into text\u001b[39;00m\n\u001b[0;32m---> 38\u001b[0m operation \u001b[38;5;241m=\u001b[39m \u001b[43mclient\u001b[49m\u001b[38;5;241;43m.\u001b[39;49m\u001b[43mbatch_recognize\u001b[49m\u001b[43m(\u001b[49m\u001b[43mrequest\u001b[49m\u001b[38;5;241;43m=\u001b[39;49m\u001b[43mrequest\u001b[49m\u001b[43m)\u001b[49m\n\u001b[1;32m     40\u001b[0m \u001b[38;5;28mprint\u001b[39m(\u001b[38;5;124m\"\u001b[39m\u001b[38;5;124mWaiting for operation to complete...\u001b[39m\u001b[38;5;124m\"\u001b[39m)\n\u001b[1;32m     41\u001b[0m response \u001b[38;5;241m=\u001b[39m operation\u001b[38;5;241m.\u001b[39mresult(timeout\u001b[38;5;241m=\u001b[39m\u001b[38;5;241m120\u001b[39m)\n",
      "File \u001b[0;32m~/cs/memo-journal/memo-journal/lib/python3.12/site-packages/google/cloud/speech_v2/services/speech/client.py:2054\u001b[0m, in \u001b[0;36mSpeechClient.batch_recognize\u001b[0;34m(self, request, recognizer, config, config_mask, files, retry, timeout, metadata)\u001b[0m\n\u001b[1;32m   2051\u001b[0m \u001b[38;5;28mself\u001b[39m\u001b[38;5;241m.\u001b[39m_validate_universe_domain()\n\u001b[1;32m   2053\u001b[0m \u001b[38;5;66;03m# Send the request.\u001b[39;00m\n\u001b[0;32m-> 2054\u001b[0m response \u001b[38;5;241m=\u001b[39m \u001b[43mrpc\u001b[49m\u001b[43m(\u001b[49m\n\u001b[1;32m   2055\u001b[0m \u001b[43m    \u001b[49m\u001b[43mrequest\u001b[49m\u001b[43m,\u001b[49m\n\u001b[1;32m   2056\u001b[0m \u001b[43m    \u001b[49m\u001b[43mretry\u001b[49m\u001b[38;5;241;43m=\u001b[39;49m\u001b[43mretry\u001b[49m\u001b[43m,\u001b[49m\n\u001b[1;32m   2057\u001b[0m \u001b[43m    \u001b[49m\u001b[43mtimeout\u001b[49m\u001b[38;5;241;43m=\u001b[39;49m\u001b[43mtimeout\u001b[49m\u001b[43m,\u001b[49m\n\u001b[1;32m   2058\u001b[0m \u001b[43m    \u001b[49m\u001b[43mmetadata\u001b[49m\u001b[38;5;241;43m=\u001b[39;49m\u001b[43mmetadata\u001b[49m\u001b[43m,\u001b[49m\n\u001b[1;32m   2059\u001b[0m \u001b[43m\u001b[49m\u001b[43m)\u001b[49m\n\u001b[1;32m   2061\u001b[0m \u001b[38;5;66;03m# Wrap the response in an operation future.\u001b[39;00m\n\u001b[1;32m   2062\u001b[0m response \u001b[38;5;241m=\u001b[39m operation\u001b[38;5;241m.\u001b[39mfrom_gapic(\n\u001b[1;32m   2063\u001b[0m     response,\n\u001b[1;32m   2064\u001b[0m     \u001b[38;5;28mself\u001b[39m\u001b[38;5;241m.\u001b[39m_transport\u001b[38;5;241m.\u001b[39moperations_client,\n\u001b[1;32m   2065\u001b[0m     cloud_speech\u001b[38;5;241m.\u001b[39mBatchRecognizeResponse,\n\u001b[1;32m   2066\u001b[0m     metadata_type\u001b[38;5;241m=\u001b[39mcloud_speech\u001b[38;5;241m.\u001b[39mOperationMetadata,\n\u001b[1;32m   2067\u001b[0m )\n",
      "File \u001b[0;32m~/cs/memo-journal/memo-journal/lib/python3.12/site-packages/google/api_core/gapic_v1/method.py:131\u001b[0m, in \u001b[0;36m_GapicCallable.__call__\u001b[0;34m(self, timeout, retry, compression, *args, **kwargs)\u001b[0m\n\u001b[1;32m    128\u001b[0m \u001b[38;5;28;01mif\u001b[39;00m \u001b[38;5;28mself\u001b[39m\u001b[38;5;241m.\u001b[39m_compression \u001b[38;5;129;01mis\u001b[39;00m \u001b[38;5;129;01mnot\u001b[39;00m \u001b[38;5;28;01mNone\u001b[39;00m:\n\u001b[1;32m    129\u001b[0m     kwargs[\u001b[38;5;124m\"\u001b[39m\u001b[38;5;124mcompression\u001b[39m\u001b[38;5;124m\"\u001b[39m] \u001b[38;5;241m=\u001b[39m compression\n\u001b[0;32m--> 131\u001b[0m \u001b[38;5;28;01mreturn\u001b[39;00m \u001b[43mwrapped_func\u001b[49m\u001b[43m(\u001b[49m\u001b[38;5;241;43m*\u001b[39;49m\u001b[43margs\u001b[49m\u001b[43m,\u001b[49m\u001b[43m \u001b[49m\u001b[38;5;241;43m*\u001b[39;49m\u001b[38;5;241;43m*\u001b[39;49m\u001b[43mkwargs\u001b[49m\u001b[43m)\u001b[49m\n",
      "File \u001b[0;32m~/cs/memo-journal/memo-journal/lib/python3.12/site-packages/google/api_core/grpc_helpers.py:78\u001b[0m, in \u001b[0;36m_wrap_unary_errors.<locals>.error_remapped_callable\u001b[0;34m(*args, **kwargs)\u001b[0m\n\u001b[1;32m     76\u001b[0m     \u001b[38;5;28;01mreturn\u001b[39;00m callable_(\u001b[38;5;241m*\u001b[39margs, \u001b[38;5;241m*\u001b[39m\u001b[38;5;241m*\u001b[39mkwargs)\n\u001b[1;32m     77\u001b[0m \u001b[38;5;28;01mexcept\u001b[39;00m grpc\u001b[38;5;241m.\u001b[39mRpcError \u001b[38;5;28;01mas\u001b[39;00m exc:\n\u001b[0;32m---> 78\u001b[0m     \u001b[38;5;28;01mraise\u001b[39;00m exceptions\u001b[38;5;241m.\u001b[39mfrom_grpc_error(exc) \u001b[38;5;28;01mfrom\u001b[39;00m \u001b[38;5;21;01mexc\u001b[39;00m\n",
      "\u001b[0;31mNotFound\u001b[0m: 404 Unable to find Recognizer memo-journal-test from project 319790905493."
     ]
    }
   ],
   "source": [
    "res = transcribe_batch_gcs_input_gcs_output_v2(audio_uri, gcs_output_path)"
   ]
  },
  {
   "cell_type": "code",
   "execution_count": null,
   "id": "e66e7fa4-7ab0-45b2-9c4e-bb58d18c470a",
   "metadata": {},
   "outputs": [],
   "source": [
    "print(\"\\n\".join(result.alternatives[0].transcript for result in res.results))"
   ]
  }
 ],
 "metadata": {
  "kernelspec": {
   "display_name": "Python 3 (ipykernel)",
   "language": "python",
   "name": "python3"
  },
  "language_info": {
   "codemirror_mode": {
    "name": "ipython",
    "version": 3
   },
   "file_extension": ".py",
   "mimetype": "text/x-python",
   "name": "python",
   "nbconvert_exporter": "python",
   "pygments_lexer": "ipython3",
   "version": "3.12.7"
  }
 },
 "nbformat": 4,
 "nbformat_minor": 5
}
